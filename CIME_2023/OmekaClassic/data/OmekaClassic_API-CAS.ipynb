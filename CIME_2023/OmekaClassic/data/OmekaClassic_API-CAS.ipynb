{
 "cells": [
  {
   "attachments": {},
   "cell_type": "markdown",
   "metadata": {},
   "source": [
    "# Récupérer des données de l'API Omeka Classic de CIME\n",
    "\n",
    "## Derrière une identification CAS\n",
    "\n",
    "- Utiliser les cookies de vivaldi une fois identifié ;)\n",
    "  - https://github.com/borisbabic/browser_cookie3\n",
    "  ```\n",
    "  pip install browser-cookie3\n",
    "  ```"
   ]
  },
  {
   "cell_type": "code",
   "execution_count": 3,
   "metadata": {},
   "outputs": [
    {
     "data": {
      "text/plain": [
       "<Response [200]>"
      ]
     },
     "execution_count": 3,
     "metadata": {},
     "output_type": "execute_result"
    }
   ],
   "source": [
    "import browser_cookie3\n",
    "import requests\n",
    "cj = browser_cookie3.vivaldi()\n",
    "url=\"https://cime.univ-pau.fr/api/items\"\n",
    "r = requests.get(url=url, cookies=cj).json()\n",
    "r"
   ]
  }
 ],
 "metadata": {
  "kernelspec": {
   "display_name": "Python 3",
   "language": "python",
   "name": "python3"
  },
  "language_info": {
   "codemirror_mode": {
    "name": "ipython",
    "version": 3
   },
   "file_extension": ".py",
   "mimetype": "text/x-python",
   "name": "python",
   "nbconvert_exporter": "python",
   "pygments_lexer": "ipython3",
   "version": "3.8.5"
  },
  "orig_nbformat": 4
 },
 "nbformat": 4,
 "nbformat_minor": 2
}
